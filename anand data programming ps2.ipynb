{
 "cells": [
  {
   "cell_type": "markdown",
   "id": "e1bf0f9e",
   "metadata": {},
   "source": [
    "# Question 1"
   ]
  },
  {
   "cell_type": "code",
   "execution_count": 4,
   "id": "4ac970ee",
   "metadata": {},
   "outputs": [],
   "source": [
    "x = 0\n",
    "def y():\n",
    "    global x\n",
    "    x = c(x)\n",
    "def c(x):\n",
    "    return x + 2"
   ]
  },
  {
   "cell_type": "code",
   "execution_count": 5,
   "id": "fe593201",
   "metadata": {},
   "outputs": [
    {
     "data": {
      "text/plain": [
       "6"
      ]
     },
     "execution_count": 5,
     "metadata": {},
     "output_type": "execute_result"
    }
   ],
   "source": [
    "y()                                \n",
    "y()                                \n",
    "y()                                \n",
    "x                            "
   ]
  },
  {
   "cell_type": "code",
   "execution_count": null,
   "id": "d856da8d",
   "metadata": {},
   "outputs": [],
   "source": []
  },
  {
   "cell_type": "markdown",
   "id": "16eb9ccb",
   "metadata": {},
   "source": [
    "# Question 2\n"
   ]
  },
  {
   "cell_type": "code",
   "execution_count": 25,
   "id": "c424f59b",
   "metadata": {},
   "outputs": [],
   "source": [
    "def file_length(a):                                          \n",
    "    try:                                                    \n",
    "        file = open(a, \"r\")                                     \n",
    "        contents=file.read()                                               \n",
    "        print('Given file length is : '+ str(len(contents)))         \n",
    "        file.close()                                                   \n",
    "    except:                                                           \n",
    "        print('File '+a+' not found.')"
   ]
  },
  {
   "cell_type": "code",
   "execution_count": 28,
   "id": "13d3e96f",
   "metadata": {},
   "outputs": [
    {
     "name": "stdout",
     "output_type": "stream",
     "text": [
      "Given file length is : 11\n"
     ]
    }
   ],
   "source": [
    "file_length(\"python.py\")"
   ]
  },
  {
   "cell_type": "code",
   "execution_count": 29,
   "id": "30fa551a",
   "metadata": {},
   "outputs": [
    {
     "name": "stdout",
     "output_type": "stream",
     "text": [
      "Error, File python2.py not found.\n"
     ]
    }
   ],
   "source": [
    "length(\"python2.py\")"
   ]
  },
  {
   "cell_type": "markdown",
   "id": "537a7332",
   "metadata": {},
   "source": [
    "# Question 3"
   ]
  },
  {
   "cell_type": "code",
   "execution_count": 30,
   "id": "87754553",
   "metadata": {},
   "outputs": [],
   "source": [
    "class Marsupial(object):                     \n",
    "  \n",
    "    def __init__(self):                               \n",
    "        self.list1 = []                     \n",
    "    def put_in_pouch(self, item):            \n",
    "        self.list1.append(item)\n",
    "    def pouch_contents(self):                \n",
    "        return self.list1"
   ]
  },
  {
   "cell_type": "code",
   "execution_count": 47,
   "id": "20e23063",
   "metadata": {},
   "outputs": [
    {
     "data": {
      "text/plain": [
       "['doll', 'firetruck', 'kitten']"
      ]
     },
     "execution_count": 47,
     "metadata": {},
     "output_type": "execute_result"
    }
   ],
   "source": [
    "x = Marsupial()\n",
    "x.put_in_pouch('doll')\n",
    "x.put_in_pouch('firetruck')\n",
    "x.put_in_pouch('kitten')\n",
    "x.pouch_contents()"
   ]
  },
  {
   "cell_type": "code",
   "execution_count": null,
   "id": "ea929ccb",
   "metadata": {},
   "outputs": [],
   "source": []
  },
  {
   "cell_type": "code",
   "execution_count": 48,
   "id": "ca8a0e55",
   "metadata": {},
   "outputs": [],
   "source": [
    "class Kangaroo(Marsupial):                      \n",
    "    \n",
    "    def __init__(self,x,y):                                     \n",
    "        Marsupial.__init__(self)                 \n",
    "        self.x = x                                \n",
    "        self.y = y\n",
    "                                  \n",
    "    def jump(self,dx,dy):                       \n",
    "        self.x = self.x + dx\n",
    "        self.y = self.y + dy\n",
    "        \n",
    "    def __str__(self):                           \n",
    "        return 'I am a Kangaroo located at coordinates ({},{})'.format(self.x,self.y)"
   ]
  },
  {
   "cell_type": "code",
   "execution_count": 49,
   "id": "fe77e2ff",
   "metadata": {},
   "outputs": [
    {
     "name": "stdout",
     "output_type": "stream",
     "text": [
      "I am a Kangaroo located at coordinates (0,0)\n"
     ]
    }
   ],
   "source": [
    "k = Kangaroo(0,0)\n",
    "print(k)"
   ]
  },
  {
   "cell_type": "code",
   "execution_count": 50,
   "id": "fe451d65",
   "metadata": {},
   "outputs": [
    {
     "data": {
      "text/plain": [
       "['doll', 'firetruck', 'kitten']"
      ]
     },
     "execution_count": 50,
     "metadata": {},
     "output_type": "execute_result"
    }
   ],
   "source": [
    "k.put_in_pouch('doll')\n",
    "k.put_in_pouch('firetruck')\n",
    "k.put_in_pouch('kitten')\n",
    "k.pouch_contents()"
   ]
  },
  {
   "cell_type": "code",
   "execution_count": 51,
   "id": "9e4aa0b6",
   "metadata": {},
   "outputs": [
    {
     "name": "stdout",
     "output_type": "stream",
     "text": [
      "I am a Kangaroo located at coordinates (3,0)\n"
     ]
    }
   ],
   "source": [
    "k.jump(1,0)\n",
    "k.jump(1,0)\n",
    "k.jump(1,0)\n",
    "print(k)"
   ]
  },
  {
   "cell_type": "markdown",
   "id": "cfe249b1",
   "metadata": {},
   "source": [
    "# Question 4"
   ]
  },
  {
   "cell_type": "code",
   "execution_count": 37,
   "id": "e16b4088",
   "metadata": {},
   "outputs": [],
   "source": [
    "def collatz(val1):                   \n",
    "   \n",
    "    if val1 != 1:                   \n",
    "        if val1%2!=0:                \n",
    "            print(int(val1))       \n",
    "            collatz(3*val1+1)       \n",
    "        \n",
    "        else:\n",
    "            print(int(val1))         \n",
    "            collatz(val1/2)          \n",
    "  \n",
    "    else:\n",
    "        print(int(val1));"
   ]
  },
  {
   "cell_type": "code",
   "execution_count": 38,
   "id": "6cf21e79",
   "metadata": {},
   "outputs": [
    {
     "name": "stdout",
     "output_type": "stream",
     "text": [
      "1\n"
     ]
    }
   ],
   "source": [
    "collatz(1)"
   ]
  },
  {
   "cell_type": "code",
   "execution_count": 39,
   "id": "5f919b6c",
   "metadata": {},
   "outputs": [
    {
     "name": "stdout",
     "output_type": "stream",
     "text": [
      "10\n",
      "5\n",
      "16\n",
      "8\n",
      "4\n",
      "2\n",
      "1\n"
     ]
    }
   ],
   "source": [
    "collatz(10)"
   ]
  },
  {
   "cell_type": "markdown",
   "id": "37a662ac",
   "metadata": {},
   "source": [
    "# Question 5"
   ]
  },
  {
   "cell_type": "code",
   "execution_count": 2,
   "id": "3aa4557a",
   "metadata": {},
   "outputs": [],
   "source": [
    "def binary(x):\n",
    "    \n",
    "    if x>0:                           \n",
    "        return (x % 2 + 10*binary(int(x // 2)))\n",
    "       \n",
    "    else:\n",
    "         return 0"
   ]
  },
  {
   "cell_type": "code",
   "execution_count": 3,
   "id": "fd508d98",
   "metadata": {},
   "outputs": [
    {
     "data": {
      "text/plain": [
       "0"
      ]
     },
     "execution_count": 3,
     "metadata": {},
     "output_type": "execute_result"
    }
   ],
   "source": [
    "binary(0)"
   ]
  },
  {
   "cell_type": "code",
   "execution_count": 4,
   "id": "ed36930a",
   "metadata": {},
   "outputs": [
    {
     "data": {
      "text/plain": [
       "1"
      ]
     },
     "execution_count": 4,
     "metadata": {},
     "output_type": "execute_result"
    }
   ],
   "source": [
    "binary(1)"
   ]
  },
  {
   "cell_type": "code",
   "execution_count": 5,
   "id": "e4b65944",
   "metadata": {},
   "outputs": [
    {
     "data": {
      "text/plain": [
       "11"
      ]
     },
     "execution_count": 5,
     "metadata": {},
     "output_type": "execute_result"
    }
   ],
   "source": [
    "binary(3)"
   ]
  },
  {
   "cell_type": "code",
   "execution_count": 5,
   "id": "ada3479f",
   "metadata": {},
   "outputs": [
    {
     "data": {
      "text/plain": [
       "1001"
      ]
     },
     "execution_count": 5,
     "metadata": {},
     "output_type": "execute_result"
    }
   ],
   "source": [
    "binary(9)"
   ]
  },
  {
   "cell_type": "markdown",
   "id": "4508618b",
   "metadata": {},
   "source": [
    "# Question 6"
   ]
  },
  {
   "cell_type": "code",
   "execution_count": 8,
   "id": "986d6508",
   "metadata": {},
   "outputs": [],
   "source": [
    "from html.parser import HTMLParser                               \n",
    "class HeadingParser(HTMLParser):                      \n",
    "    def __init__(self):                                                 \n",
    "        HTMLParser.__init__(self)                           \n",
    "        self.head =0                                                          \n",
    "        self.intend = \"\"\n",
    "    def handle_starttag(self, tag, attrs):              \n",
    "        if tag[:-1]=='h':\n",
    "            self.head = 'type'\n",
    "    def handle_data(self, data):                             \n",
    "        if self.head==\"type\":\n",
    "            print(self.intend+ data)                         \n",
    "            self.intend+= \"    \"\n",
    "            self.head=0   "
   ]
  },
  {
   "cell_type": "code",
   "execution_count": 9,
   "id": "b6a98178",
   "metadata": {},
   "outputs": [
    {
     "name": "stdout",
     "output_type": "stream",
     "text": [
      "W3C Mission\n",
      "    Principles\n"
     ]
    }
   ],
   "source": [
    "infile = open('w3c.html')\n",
    "content = infile.read()\n",
    "infile.close()\n",
    "hp = HeadingParser()\n",
    "hp.feed(content)"
   ]
  },
  {
   "cell_type": "markdown",
   "id": "76e136db",
   "metadata": {},
   "source": [
    "# Question 7"
   ]
  },
  {
   "cell_type": "code",
   "execution_count": null,
   "id": "c44b84e7",
   "metadata": {},
   "outputs": [],
   "source": []
  },
  {
   "cell_type": "code",
   "execution_count": null,
   "id": "be631f17",
   "metadata": {},
   "outputs": [],
   "source": []
  },
  {
   "cell_type": "code",
   "execution_count": null,
   "id": "0e22b58d",
   "metadata": {},
   "outputs": [],
   "source": []
  },
  {
   "cell_type": "markdown",
   "id": "3c1d5db2",
   "metadata": {},
   "source": [
    "# Question 8"
   ]
  },
  {
   "cell_type": "code",
   "execution_count": 10,
   "id": "a877d143",
   "metadata": {},
   "outputs": [],
   "source": [
    "import sqlite3\n",
    "connect = sqlite3.connect('database_db')\n",
    "cursor = connect.cursor()\n",
    "cursor.execute(\"CREATE TABLE data (City text, Country text, Season text, Temperature dec, Rainfall dec)\")\n",
    "cursor.execute(\"INSERT INTO data VALUES ('Mumbai', 'India', 'Winter', 24.8, 5.9)\")\n",
    "cursor.execute(\"INSERT INTO data VALUES ('Mumbai', 'India', 'Spring', 28.4, 16.2)\")\n",
    "cursor.execute(\"INSERT INTO data VALUES ('Mumbai', 'India', 'Summer', 27.9, 1549.4)\")\n",
    "cursor.execute(\"INSERT INTO data VALUES ('Mumbai', 'India', 'Fall', 27.6, 346.0)\")\n",
    "cursor.execute(\"INSERT INTO data VALUES ('London', 'United Kingdom', 'Winter', 4.2, 207.7)\")\n",
    "cursor.execute(\"INSERT INTO data VALUES ('London', 'United Kingdom', 'Spring', 8.3, 169.6)\")\n",
    "cursor.execute(\"INSERT INTO data VALUES ('London', 'United Kingdom', 'Summer', 15.7, 157.0)\")\n",
    "cursor.execute(\"INSERT INTO data VALUES ('London', 'United Kingdom', 'Fall', 10.4, 218.5)\")\n",
    "cursor.execute(\"INSERT INTO data VALUES ('Cairo', 'Egypt', 'Winter', 13.6, 16.5)\")\n",
    "cursor.execute(\"INSERT INTO data VALUES ('Cairo', 'Egypt', 'Spring', 20.7, 6.5)\")\n",
    "cursor.execute(\"INSERT INTO data VALUES ('Cairo', 'Egypt', 'Summer', 27.7, 0.1)\")\n",
    "cursor.execute(\"INSERT INTO data VALUES ('Cairo', 'Egypt', 'Fall', 22.2, 4.5)\")\n",
    "connect.commit()\n",
    "connect.close()"
   ]
  },
  {
   "cell_type": "code",
   "execution_count": 15,
   "id": "9182f2e0",
   "metadata": {},
   "outputs": [
    {
     "name": "stdout",
     "output_type": "stream",
     "text": [
      "(24.8,)\n",
      "(28.4,)\n",
      "(27.9,)\n",
      "(27.6,)\n",
      "(4.2,)\n",
      "(8.3,)\n",
      "(15.7,)\n",
      "(10.4,)\n",
      "(13.6,)\n",
      "(20.7,)\n",
      "(27.7,)\n",
      "(22.2,)\n",
      "('Mumbai',)\n",
      "('London',)\n",
      "('Cairo',)\n",
      "('Mumbai', 'India', 'Fall', 27.6, 346)\n",
      "('London', 'United Kingdom', 'Fall', 10.4, 218.5)\n",
      "('Cairo', 'Egypt', 'Fall', 22.2, 4.5)\n",
      "('Mumbai', 'India', 'Winter', 24.8, 5.9)\n",
      "('Mumbai', 'India', 'Spring', 28.4, 16.2)\n",
      "('Mumbai', 'India', 'Summer', 27.9, 1549.4)\n",
      "('Mumbai', 'India', 'Fall', 27.6, 346)\n",
      "('Mumbai', 'India')\n",
      "('Cairo', 'Egypt')\n",
      "('Mumbai', 'India', 'Fall')\n",
      "('London', 'United Kingdom', 'Winter')\n",
      "('London', 'United Kingdom', 'Fall')\n",
      "[(27.6,)]\n",
      "(569.0, 'Fall')\n",
      "(192.29999999999998, 'Spring')\n",
      "(1706.5, 'Summer')\n",
      "(230.1, 'Winter')\n"
     ]
    }
   ],
   "source": [
    "import sqlite3\n",
    "connect = sqlite3.connect('database_db')\n",
    "cursor = connect.cursor()\n",
    "cursor.execute('SELECT Temperature FROM data ')\n",
    "for record in cursor:\n",
    "    print(record)\n",
    "cursor.execute('SELECT DISTINCT City FROM data ')\n",
    "for record in cursor:\n",
    "    print(record)\n",
    "cursor.execute('SELECT * FROM data  where Season=\"Fall\"')\n",
    "for record in cursor:\n",
    "    print(record)\n",
    "cursor.execute('SELECT * FROM data  where Country=\"India\"')\n",
    "for record in cursor:\n",
    "    print(record)\n",
    "cursor.execute('SELECT City,Country FROM data  where (Season =\"Fall\") AND (temperature>20) ORDER BY Temperature DESC')\n",
    "for record in cursor:\n",
    "    print(record)\n",
    "cursor.execute('SELECT City,Country,Season FROM data  where (rainfall>200) AND (rainfall<400)')\n",
    "for record in cursor:\n",
    "    print(record)\n",
    "cursor.execute('SELECT SUM(Rainfall) FROM data  where City=\"Cairo\"')\n",
    "Annual_rainfall=cursor.fetchall()\n",
    "print(Annual_rainfall)\n",
    "cursor.execute('SELECT SUM(Rainfall),Season FROM data  GROUP BY Season')\n",
    "for record in cursor:\n",
    "    print(record)"
   ]
  },
  {
   "cell_type": "markdown",
   "id": "dccd4363",
   "metadata": {},
   "source": [
    "# Question 9"
   ]
  },
  {
   "cell_type": "code",
   "execution_count": 16,
   "id": "c32e778b",
   "metadata": {},
   "outputs": [
    {
     "data": {
      "text/plain": [
       "['THE', 'QUICK', 'BROWN', 'FOX', 'JUMPS', 'OVER', 'THE', 'LAZY', 'DOG']"
      ]
     },
     "execution_count": 16,
     "metadata": {},
     "output_type": "execute_result"
    }
   ],
   "source": [
    "words = ['The', 'quick', 'brown', 'fox', 'jumps', 'over', 'the', 'lazy', 'dog']\n",
    "[x.upper() for x in words]"
   ]
  },
  {
   "cell_type": "code",
   "execution_count": 17,
   "id": "e5f9bb9f",
   "metadata": {},
   "outputs": [
    {
     "data": {
      "text/plain": [
       "['the', 'quick', 'brown', 'fox', 'jumps', 'over', 'the', 'lazy', 'dog']"
      ]
     },
     "execution_count": 17,
     "metadata": {},
     "output_type": "execute_result"
    }
   ],
   "source": [
    "[x.lower() for x in words]"
   ]
  },
  {
   "cell_type": "code",
   "execution_count": 18,
   "id": "829ce502",
   "metadata": {},
   "outputs": [
    {
     "data": {
      "text/plain": [
       "[3, 5, 5, 3, 5, 4, 3, 4, 3]"
      ]
     },
     "execution_count": 18,
     "metadata": {},
     "output_type": "execute_result"
    }
   ],
   "source": [
    "[len(x) for x in words]"
   ]
  },
  {
   "cell_type": "code",
   "execution_count": 19,
   "id": "45062559",
   "metadata": {},
   "outputs": [
    {
     "data": {
      "text/plain": [
       "[['THE', 'the', 3],\n",
       " ['QUICK', 'quick', 5],\n",
       " ['BROWN', 'brown', 5],\n",
       " ['FOX', 'fox', 3],\n",
       " ['JUMPS', 'jumps', 5],\n",
       " ['OVER', 'over', 4],\n",
       " ['THE', 'the', 3],\n",
       " ['LAZY', 'lazy', 4],\n",
       " ['DOG', 'dog', 3]]"
      ]
     },
     "execution_count": 19,
     "metadata": {},
     "output_type": "execute_result"
    }
   ],
   "source": [
    "[[x.upper(),x.lower(),len(x)] for x in words]"
   ]
  },
  {
   "cell_type": "code",
   "execution_count": 20,
   "id": "3ca2bbc2",
   "metadata": {},
   "outputs": [
    {
     "data": {
      "text/plain": [
       "['quick', 'brown', 'jumps', 'over', 'lazy']"
      ]
     },
     "execution_count": 20,
     "metadata": {},
     "output_type": "execute_result"
    }
   ],
   "source": [
    "[x for x in words if len(x) >= 4]"
   ]
  },
  {
   "cell_type": "code",
   "execution_count": null,
   "id": "a8674f41",
   "metadata": {},
   "outputs": [],
   "source": []
  }
 ],
 "metadata": {
  "kernelspec": {
   "display_name": "Python 3 (ipykernel)",
   "language": "python",
   "name": "python3"
  },
  "language_info": {
   "codemirror_mode": {
    "name": "ipython",
    "version": 3
   },
   "file_extension": ".py",
   "mimetype": "text/x-python",
   "name": "python",
   "nbconvert_exporter": "python",
   "pygments_lexer": "ipython3",
   "version": "3.9.12"
  }
 },
 "nbformat": 4,
 "nbformat_minor": 5
}
